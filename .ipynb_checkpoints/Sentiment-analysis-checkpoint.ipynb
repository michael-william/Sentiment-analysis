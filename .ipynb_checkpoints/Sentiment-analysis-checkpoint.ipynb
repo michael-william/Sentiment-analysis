{
 "cells": [
  {
   "cell_type": "markdown",
   "metadata": {},
   "source": [
    "<font size = 40 color=darkgreen>Sentiment Analysis</font><br>\n",
    "Sentiment analysis is the process of understanding the opinion of an author about a subject. This is comprised of 3 elements:\n",
    "1. The opinion (*Positive - Neutral - Negative*) and/or emotion (*Joy - Surprise - Anger - Disgust*) \n",
    "2. The subject being talked about\n",
    "3. Opinion holder<br>\n",
    "\n",
    "Sentiment analysis is used to give insight how people are talking about a subject.<BR> \n",
    "Some common areas of application are:\n",
    "- Social media monitoring\n",
    "- Brand monitoring\n",
    "- Customer service\n",
    "- Product analysis\n",
    "- Market research and analysis<BR>"
   ]
  },
  {
   "cell_type": "markdown",
   "metadata": {},
   "source": [
    "<font size=5 color=darkgreen>Movie Review Analysis</font><br>\n",
    "This project will focus on analyzing the sentiment of moview reviews from the IMDB database. <br>\n",
    "The data source for this project can be found on Kaggle:<br> https://www.kaggle.com/lakshmi25npathi/imdb-dataset-of-50k-movie-reviews#*<br><br>\n",
    "**Steps:**<br>\n",
    "1. Importing libraries and reading data\n",
    "2. EDA "
   ]
  },
  {
   "cell_type": "markdown",
   "metadata": {},
   "source": [
    "# <font color=teal>Import data</font>"
   ]
  },
  {
   "cell_type": "code",
   "execution_count": 95,
   "metadata": {},
   "outputs": [
    {
     "data": {
      "text/plain": [
       "20"
      ]
     },
     "execution_count": 95,
     "metadata": {},
     "output_type": "execute_result"
    }
   ],
   "source": [
    "# Data manipulation\n",
    "import pandas as pd\n",
    "import numpy as np\n",
    "from textblob import TextBlob\n",
    "from wordcloud import WordCloud, STOPWORDS\n",
    "import nltk\n",
    "from nltk import word_tokenize\n",
    "from langdetect import detect_langs\n",
    "\n",
    "\n",
    "#ML libraries\n",
    "from sklearn.feature_extraction.text import CountVectorizer, ENGLISH_STOP_WORDS\n",
    "\n",
    "# Options for pandas\n",
    "pd.options.display.max_columns\n",
    "pd.options.display.max_rows = 30\n",
    "\n",
    "# Display all cell outputs\n",
    "from IPython.core.interactiveshell import InteractiveShell\n",
    "InteractiveShell.ast_node_interactivity = 'all'\n",
    "\n",
    "from IPython import get_ipython\n",
    "ipython = get_ipython()\n",
    "\n",
    "# autoreload extension\n",
    "if 'autoreload' not in ipython.extension_manager.loaded:\n",
    "    %load_ext autoreload\n",
    "\n",
    "%autoreload 2\n",
    "\n",
    "# Visualizations\n",
    "from matplotlib import pyplot as plt\n",
    "import seaborn as sns\n",
    "import plotly.graph_objs as go\n",
    "#import plotly.figure_factory as ff\n",
    "import plotly.io as pio\n",
    "import plotly.offline as pyo\n",
    "pio.renderers.default = 'iframe'"
   ]
  },
  {
   "cell_type": "code",
   "execution_count": 2,
   "metadata": {},
   "outputs": [],
   "source": [
    "#Git\n",
    "source = 'https://github.com/michael-william/Sentiment-analysis/raw/master/IMDB_Dataset.csv'\n",
    "df = pd.read_csv(source)"
   ]
  },
  {
   "cell_type": "markdown",
   "metadata": {},
   "source": [
    "# <font color=teal>EDA</font>"
   ]
  },
  {
   "cell_type": "code",
   "execution_count": 3,
   "metadata": {},
   "outputs": [],
   "source": [
    "# Creating copy of main df\n",
    "data = df"
   ]
  },
  {
   "cell_type": "code",
   "execution_count": 4,
   "metadata": {
    "cell_style": "split"
   },
   "outputs": [
    {
     "data": {
      "text/html": [
       "<div>\n",
       "<style scoped>\n",
       "    .dataframe tbody tr th:only-of-type {\n",
       "        vertical-align: middle;\n",
       "    }\n",
       "\n",
       "    .dataframe tbody tr th {\n",
       "        vertical-align: top;\n",
       "    }\n",
       "\n",
       "    .dataframe thead th {\n",
       "        text-align: right;\n",
       "    }\n",
       "</style>\n",
       "<table border=\"1\" class=\"dataframe\">\n",
       "  <thead>\n",
       "    <tr style=\"text-align: right;\">\n",
       "      <th></th>\n",
       "      <th>review</th>\n",
       "      <th>sentiment</th>\n",
       "    </tr>\n",
       "  </thead>\n",
       "  <tbody>\n",
       "    <tr>\n",
       "      <th>0</th>\n",
       "      <td>One of the other reviewers has mentioned that ...</td>\n",
       "      <td>positive</td>\n",
       "    </tr>\n",
       "    <tr>\n",
       "      <th>1</th>\n",
       "      <td>A wonderful little production. &lt;br /&gt;&lt;br /&gt;The...</td>\n",
       "      <td>positive</td>\n",
       "    </tr>\n",
       "    <tr>\n",
       "      <th>2</th>\n",
       "      <td>I thought this was a wonderful way to spend ti...</td>\n",
       "      <td>positive</td>\n",
       "    </tr>\n",
       "    <tr>\n",
       "      <th>3</th>\n",
       "      <td>Basically there's a family where a little boy ...</td>\n",
       "      <td>negative</td>\n",
       "    </tr>\n",
       "    <tr>\n",
       "      <th>4</th>\n",
       "      <td>Petter Mattei's \"Love in the Time of Money\" is...</td>\n",
       "      <td>positive</td>\n",
       "    </tr>\n",
       "  </tbody>\n",
       "</table>\n",
       "</div>"
      ],
      "text/plain": [
       "                                              review sentiment\n",
       "0  One of the other reviewers has mentioned that ...  positive\n",
       "1  A wonderful little production. <br /><br />The...  positive\n",
       "2  I thought this was a wonderful way to spend ti...  positive\n",
       "3  Basically there's a family where a little boy ...  negative\n",
       "4  Petter Mattei's \"Love in the Time of Money\" is...  positive"
      ]
     },
     "execution_count": 4,
     "metadata": {},
     "output_type": "execute_result"
    }
   ],
   "source": [
    "# Viewing first 2 lines of the datafram\n",
    "data.head(5)"
   ]
  },
  {
   "cell_type": "code",
   "execution_count": 5,
   "metadata": {
    "cell_style": "split"
   },
   "outputs": [
    {
     "data": {
      "text/plain": [
       "positive    50.0\n",
       "negative    50.0\n",
       "Name: sentiment, dtype: float64"
      ]
     },
     "execution_count": 5,
     "metadata": {},
     "output_type": "execute_result"
    }
   ],
   "source": [
    "data.sentiment.value_counts()/len(data)*100"
   ]
  },
  {
   "cell_type": "code",
   "execution_count": 6,
   "metadata": {
    "cell_style": "split"
   },
   "outputs": [
    {
     "name": "stdout",
     "output_type": "stream",
     "text": [
      "<class 'pandas.core.frame.DataFrame'>\n",
      "RangeIndex: 50000 entries, 0 to 49999\n",
      "Data columns (total 2 columns):\n",
      " #   Column     Non-Null Count  Dtype \n",
      "---  ------     --------------  ----- \n",
      " 0   review     50000 non-null  object\n",
      " 1   sentiment  50000 non-null  object\n",
      "dtypes: object(2)\n",
      "memory usage: 781.4+ KB\n"
     ]
    }
   ],
   "source": [
    "# Reviewing details of the data\n",
    "data.info()"
   ]
  },
  {
   "cell_type": "markdown",
   "metadata": {},
   "source": [
    "***There are 50K reviews with an even split of positive and negative reviews and no nulls***"
   ]
  },
  {
   "cell_type": "code",
   "execution_count": 7,
   "metadata": {},
   "outputs": [],
   "source": [
    "languages = []\n",
    "\n",
    "for row in range(len(data.review)):\n",
    "                 languages.append(detect_langs(data.review.iloc[row]))"
   ]
  },
  {
   "cell_type": "code",
   "execution_count": 8,
   "metadata": {},
   "outputs": [],
   "source": [
    "lang_str=[str(item[0]).split(':')[0] for item in languages]\n",
    "lang_score=[round(float(str(item[0]).split(':')[1]),6) for item in languages]\n"
   ]
  },
  {
   "cell_type": "code",
   "execution_count": 9,
   "metadata": {},
   "outputs": [],
   "source": [
    "data['language'] = lang_str\n",
    "data['lang_assurance'] = lang_score"
   ]
  },
  {
   "cell_type": "code",
   "execution_count": 10,
   "metadata": {},
   "outputs": [
    {
     "name": "stdout",
     "output_type": "stream",
     "text": [
      "There are 2 languages detected in this data set.\n"
     ]
    },
    {
     "data": {
      "text/plain": [
       "en    49999\n",
       "id        1\n",
       "Name: language, dtype: int64"
      ]
     },
     "execution_count": 10,
     "metadata": {},
     "output_type": "execute_result"
    }
   ],
   "source": [
    "print('There are {} languages detected in this data set.'.format(data.language.nunique()))\n",
    "data.language.value_counts()"
   ]
  },
  {
   "cell_type": "code",
   "execution_count": 11,
   "metadata": {},
   "outputs": [
    {
     "data": {
      "text/plain": [
       "45315    .....whoops - looks like it's gonna cost you a...\n",
       "Name: review, dtype: object"
      ]
     },
     "execution_count": 11,
     "metadata": {},
     "output_type": "execute_result"
    }
   ],
   "source": [
    "# inspecting non-english reviews\n",
    "data[data.language!='en']['review']"
   ]
  },
  {
   "cell_type": "code",
   "execution_count": 12,
   "metadata": {},
   "outputs": [
    {
     "data": {
      "text/plain": [
       "count    49999.000000\n",
       "mean         0.999957\n",
       "std          0.002996\n",
       "min          0.571427\n",
       "25%          0.999996\n",
       "50%          0.999997\n",
       "75%          0.999998\n",
       "max          1.000000\n",
       "Name: lang_assurance, dtype: float64"
      ]
     },
     "execution_count": 12,
     "metadata": {},
     "output_type": "execute_result"
    }
   ],
   "source": [
    "# assessing overall language assurance score\n",
    "data[data.language=='en']['lang_assurance'].describe()"
   ]
  },
  {
   "cell_type": "code",
   "execution_count": 13,
   "metadata": {
    "scrolled": false
   },
   "outputs": [
    {
     "name": "stdout",
     "output_type": "stream",
     "text": [
      "The longest reviews is 13704 words\n",
      "The shortest reviews is 32 words\n",
      "The average review length is 1310 words\n"
     ]
    }
   ],
   "source": [
    "# assessing the length of reviews\n",
    "length_of_reviews = data.review.str.len()\n",
    "max_review = max(length_of_reviews)\n",
    "min_review = min(length_of_reviews)\n",
    "avg_review = np.mean(length_of_reviews)\n",
    "\n",
    "print('The longest reviews is {} words'.format(max_review))\n",
    "print('The shortest reviews is {} words'.format(min_review))\n",
    "print('The average review length is {} words'.format(np.ceil(avg_review).astype('int')))"
   ]
  },
  {
   "cell_type": "markdown",
   "metadata": {},
   "source": [
    "> ## <font color=brown>Example word clouds for average length reviews\n",
    "</font>"
   ]
  },
  {
   "cell_type": "code",
   "execution_count": 14,
   "metadata": {
    "scrolled": false
   },
   "outputs": [
    {
     "data": {
      "text/html": [
       "<div>\n",
       "<style scoped>\n",
       "    .dataframe tbody tr th:only-of-type {\n",
       "        vertical-align: middle;\n",
       "    }\n",
       "\n",
       "    .dataframe tbody tr th {\n",
       "        vertical-align: top;\n",
       "    }\n",
       "\n",
       "    .dataframe thead th {\n",
       "        text-align: right;\n",
       "    }\n",
       "</style>\n",
       "<table border=\"1\" class=\"dataframe\">\n",
       "  <thead>\n",
       "    <tr style=\"text-align: right;\">\n",
       "      <th></th>\n",
       "      <th>review</th>\n",
       "      <th>sentiment</th>\n",
       "      <th>language</th>\n",
       "      <th>lang_assurance</th>\n",
       "      <th>review_len</th>\n",
       "    </tr>\n",
       "  </thead>\n",
       "  <tbody>\n",
       "    <tr>\n",
       "      <th>2498</th>\n",
       "      <td>This film breeches the fine line between satir...</td>\n",
       "      <td>negative</td>\n",
       "      <td>en</td>\n",
       "      <td>0.999997</td>\n",
       "      <td>1310</td>\n",
       "    </tr>\n",
       "    <tr>\n",
       "      <th>7470</th>\n",
       "      <td>Delightful film directed by some of the best d...</td>\n",
       "      <td>positive</td>\n",
       "      <td>en</td>\n",
       "      <td>0.999999</td>\n",
       "      <td>1310</td>\n",
       "    </tr>\n",
       "  </tbody>\n",
       "</table>\n",
       "</div>"
      ],
      "text/plain": [
       "                                                 review sentiment language  \\\n",
       "2498  This film breeches the fine line between satir...  negative       en   \n",
       "7470  Delightful film directed by some of the best d...  positive       en   \n",
       "\n",
       "      lang_assurance  review_len  \n",
       "2498        0.999997        1310  \n",
       "7470        0.999999        1310  "
      ]
     },
     "execution_count": 14,
     "metadata": {},
     "output_type": "execute_result"
    }
   ],
   "source": [
    "# adding review length to dataframe\n",
    "data['review_len'] = length_of_reviews\n",
    "data[data.review_len == np.ceil(avg_review).astype('int')].head(2)"
   ]
  },
  {
   "cell_type": "code",
   "execution_count": 15,
   "metadata": {},
   "outputs": [],
   "source": [
    "# initiating and updating stop words with content specific words\n",
    "my_stopwords = ENGLISH_STOP_WORDS.union(['film', 'movie', 'br'])"
   ]
  },
  {
   "cell_type": "code",
   "execution_count": 16,
   "metadata": {},
   "outputs": [
    {
     "name": "stdout",
     "output_type": "stream",
     "text": [
      "There are 0 words in my_stopwords that start with a capital letter\n"
     ]
    }
   ],
   "source": [
    "# cheching for stop words include words with first letter capitalized\n",
    "upper_count=0\n",
    "\n",
    "for x in list(my_stopwords):\n",
    "    value = x[0].isupper() \n",
    "    upper_count += value\n",
    "print('There are {} words in my_stopwords that start with a capital letter'.format(upper_count))"
   ]
  },
  {
   "cell_type": "code",
   "execution_count": 17,
   "metadata": {},
   "outputs": [
    {
     "name": "stdout",
     "output_type": "stream",
     "text": [
      "There are 321 words in my_stopwords that start with a capital letter\n"
     ]
    }
   ],
   "source": [
    "# capitalizing all words in my_stopwords \n",
    "capital_stopwords = []\n",
    "for x in my_stopwords:\n",
    "    capital_stopwords.append(x.capitalize())\n",
    "\n",
    "# updating my_stopwords list with capitalized versions\n",
    "my_stopwords = my_stopwords.union(capital_stopwords)\n",
    "\n",
    "# checking number of capitalized words in my_stopwords\n",
    "upper_count = 0\n",
    "for x in list(my_stopwords):\n",
    "    value = np.sum(x[0].isupper()) \n",
    "    upper_count += value\n",
    "print('There are {} words in my_stopwords that start with a capital letter'.format(upper_count))"
   ]
  },
  {
   "cell_type": "code",
   "execution_count": 18,
   "metadata": {
    "cell_style": "split",
    "scrolled": false
   },
   "outputs": [
    {
     "data": {
      "text/plain": [
       "Text(0.5, 1.0, 'Positve Word Cloud')"
      ]
     },
     "execution_count": 18,
     "metadata": {},
     "output_type": "execute_result"
    },
    {
     "data": {
      "text/plain": [
       "(-0.5, 399.5, 199.5, -0.5)"
      ]
     },
     "execution_count": 18,
     "metadata": {},
     "output_type": "execute_result"
    },
    {
     "data": {
      "image/png": "[encoded data removed]",
      "text/plain": [
       "<Figure size 432x288 with 1 Axes>"
      ]
     },
     "metadata": {
      "needs_background": "light"
     },
     "output_type": "display_data"
    }
   ],
   "source": [
    "# creating positive word cloud \n",
    "my_cloud = WordCloud(background_color='white', stopwords=my_stopwords).generate(data.review.iloc[7470])\n",
    "\n",
    "# Display the generated wordcloud image\n",
    "_=plt.imshow(my_cloud, interpolation='bilinear') \n",
    "plt.title('Positve Word Cloud')\n",
    "plt.axis(\"off\")"
   ]
  },
  {
   "cell_type": "code",
   "execution_count": 19,
   "metadata": {
    "cell_style": "split"
   },
   "outputs": [
    {
     "data": {
      "text/plain": [
       "Text(0.5, 1.0, 'Negative Word Cloud')"
      ]
     },
     "execution_count": 19,
     "metadata": {},
     "output_type": "execute_result"
    },
    {
     "data": {
      "text/plain": [
       "(-0.5, 399.5, 199.5, -0.5)"
      ]
     },
     "execution_count": 19,
     "metadata": {},
     "output_type": "execute_result"
    },
    {
     "data": {
      "image/png": "[encoded data removed]",
      "text/plain": [
       "<Figure size 432x288 with 1 Axes>"
      ]
     },
     "metadata": {
      "needs_background": "light"
     },
     "output_type": "display_data"
    }
   ],
   "source": [
    "# creating positive word cloud \n",
    "my_cloud = WordCloud(background_color='grey', stopwords=my_stopwords).generate(data.review.iloc[2498])\n",
    "\n",
    "# Display the generated wordcloud image\n",
    "_=plt.imshow(my_cloud, interpolation='bilinear') \n",
    "plt.title('Negative Word Cloud')\n",
    "plt.axis(\"off\")"
   ]
  },
  {
   "cell_type": "markdown",
   "metadata": {},
   "source": [
    "> ## <font color=brown>Analyzing polarity and subjectivity\n",
    "</font><br>\n",
    "- Polarity is number in the range of [-100,100] where 100 means a positive statement and -100 means a negative statement. \n",
    "- Subjective sentences generally refer to personal opinion, emotion or judgment whereas objective refers to factual information. Subjectivity is a number which lies in the range of [0,100] where 100 is a subjective statement and -100 is a objective statement."
   ]
  },
  {
   "cell_type": "code",
   "execution_count": 20,
   "metadata": {},
   "outputs": [
    {
     "name": "stdout",
     "output_type": "stream",
     "text": [
      "The polarity is 43.0% for the positive review\n",
      "The subjectivity is 56.67% for the positive review\n"
     ]
    }
   ],
   "source": [
    "# Create a textblob object for positive review  \n",
    "blob_positive = TextBlob(data.review.iloc[7470])\n",
    "\n",
    "# Print out the sentiment for positive review\n",
    "print('The polarity is {}% for the positive review'.format(np.round(blob_positive.sentiment[0],4)*100))\n",
    "print('The subjectivity is {}% for the positive review'.format(np.round(blob_positive.sentiment[1],4)*100))\n"
   ]
  },
  {
   "cell_type": "markdown",
   "metadata": {},
   "source": [
    "*Polarity for the positive review correlates well with the positive score*"
   ]
  },
  {
   "cell_type": "code",
   "execution_count": 21,
   "metadata": {},
   "outputs": [
    {
     "name": "stdout",
     "output_type": "stream",
     "text": [
      "The polarity is 14.360000000000001% for the negative review\n",
      "The subjectivity is 45.53% for the negative review\n"
     ]
    }
   ],
   "source": [
    "# Create a textblob object for negative review  \n",
    "blob_negative = TextBlob(data.review.iloc[2498])\n",
    "\n",
    "# Print out the sentiment for negative review\n",
    "print('The polarity is {}% for the negative review'.format(np.round(blob_negative.sentiment[0],4)*100))\n",
    "print('The subjectivity is {}% for the negative review'.format(np.round(blob_negative.sentiment[1],4)*100))\n"
   ]
  },
  {
   "cell_type": "markdown",
   "metadata": {},
   "source": [
    "*The polarity of the review correlates with the negative score*"
   ]
  },
  {
   "cell_type": "code",
   "execution_count": 22,
   "metadata": {},
   "outputs": [],
   "source": [
    "# creating functions to add polarity and subjectivity scores\n",
    "def polarity(x):\n",
    "    blob = TextBlob(x)\n",
    "    return blob.sentiment[0]*100\n",
    "\n",
    "def subjectivity(x):\n",
    "    blob = TextBlob(x)\n",
    "    return blob.sentiment[1]*100"
   ]
  },
  {
   "cell_type": "code",
   "execution_count": 23,
   "metadata": {
    "cell_style": "split"
   },
   "outputs": [],
   "source": [
    "data['polarity'] = data.review.apply(polarity)"
   ]
  },
  {
   "cell_type": "code",
   "execution_count": 24,
   "metadata": {
    "cell_style": "split"
   },
   "outputs": [],
   "source": [
    "data['subjectivity'] = data.review.apply(subjectivity)"
   ]
  },
  {
   "cell_type": "code",
   "execution_count": 25,
   "metadata": {
    "cell_style": "split",
    "scrolled": true
   },
   "outputs": [
    {
     "data": {
      "text/plain": [
       "count    50000.000000\n",
       "mean        10.339725\n",
       "std         16.328419\n",
       "min       -100.000000\n",
       "25%          0.414764\n",
       "50%         10.453704\n",
       "75%         20.330509\n",
       "max        100.000000\n",
       "Name: polarity, dtype: float64"
      ]
     },
     "execution_count": 25,
     "metadata": {},
     "output_type": "execute_result"
    }
   ],
   "source": [
    "data.polarity.describe()"
   ]
  },
  {
   "cell_type": "code",
   "execution_count": 26,
   "metadata": {},
   "outputs": [],
   "source": [
    "# organizing data for plotly visualization\n",
    "hist_1 = go.Histogram(\n",
    "    x=data['polarity'],\n",
    "    opacity = 0.75,\n",
    "    name='Polarity')\n",
    "\n",
    "hist_2 = go.Histogram(\n",
    "    x=data['subjectivity'],\n",
    "    opacity = 0.75,\n",
    "    name='Subjectivity')\n",
    "\n",
    "hist_data = [hist_1, hist_2]"
   ]
  },
  {
   "cell_type": "code",
   "execution_count": 27,
   "metadata": {},
   "outputs": [
    {
     "data": {
      "text/plain": [
       "'Polarity vs Subjectivity.html'"
      ]
     },
     "execution_count": 27,
     "metadata": {},
     "output_type": "execute_result"
    },
    {
     "data": {
      "text/html": [
       "<iframe\n",
       "    scrolling=\"no\"\n",
       "    width=\"100%\"\n",
       "    height=\"545px\"\n",
       "    src=\"iframe_figures/figure_27.html\"\n",
       "    frameborder=\"0\"\n",
       "    allowfullscreen\n",
       "></iframe>\n"
      ]
     },
     "metadata": {},
     "output_type": "display_data"
    }
   ],
   "source": [
    "# completing layout of plotly visualization and displaying the figure\n",
    "layout = go.Layout(\n",
    "    title='Polarity vs Subjectivity',\n",
    "    barmode='overlay')\n",
    "\n",
    "fig = go.Figure(data=hist_data, layout=layout)\n",
    "pyo.plot(fig, filename='Polarity vs Subjectivity.html')\n",
    "fig.show()"
   ]
  },
  {
   "cell_type": "markdown",
   "metadata": {
    "cell_style": "center"
   },
   "source": [
    "***The data for polarity and subjectivity is normally distributed***<br>\n",
    "***Subjectivity looks like its is less spread, but the min is 0 vs -1***"
   ]
  },
  {
   "cell_type": "code",
   "execution_count": 28,
   "metadata": {
    "cell_style": "split",
    "scrolled": false
   },
   "outputs": [
    {
     "data": {
      "image/png": "[encoded data removed]",
      "text/plain": [
       "<Figure size 432x288 with 1 Axes>"
      ]
     },
     "metadata": {
      "needs_background": "light"
     },
     "output_type": "display_data"
    }
   ],
   "source": [
    "_=plt.title('Polarity split by sentiment')\n",
    "_=sns.distplot(data.polarity[data.sentiment=='positive'],label='positive')\n",
    "_=sns.distplot(data.polarity[data.sentiment=='negative'], color='red', label='negative')\n",
    "_=plt.legend()\n",
    "_=plt.ylim(0,0.05)"
   ]
  },
  {
   "cell_type": "code",
   "execution_count": 29,
   "metadata": {
    "cell_style": "split",
    "scrolled": true
   },
   "outputs": [
    {
     "data": {
      "image/png": "[encoded data removed]",
      "text/plain": [
       "<Figure size 432x288 with 1 Axes>"
      ]
     },
     "metadata": {
      "needs_background": "light"
     },
     "output_type": "display_data"
    }
   ],
   "source": [
    "_=plt.title('Subjectivity split by sentiment')\n",
    "_=sns.distplot(data.subjectivity[data.sentiment=='positive'],color='green',label='positive')\n",
    "_=sns.distplot(data.subjectivity[data.sentiment=='negative'], color='red', label='negative')\n",
    "_=plt.legend()\n",
    "_=plt.ylim(0,0.05)"
   ]
  },
  {
   "cell_type": "markdown",
   "metadata": {
    "cell_style": "center"
   },
   "source": [
    "***Negative reviews seem to be more neutral where positive reviews seem to be more positive***<br>\n",
    "***There seem to be almost no difference in subjectivity between positive and negative reviews***<br>\n",
    "***Would like to know if there's any change by removing stop words***"
   ]
  },
  {
   "cell_type": "markdown",
   "metadata": {},
   "source": [
    "> ## <font color=brown>Advanced processing of reviews for better analysis<br>\n",
    "- Exploration of of the 'review' column shows plenty of characters and jargon that is hard for the machine to interpret.<br> \n",
    "- Further processing of the 'review' column is needed by removing stop words and only including recognized English words"
   ]
  },
  {
   "cell_type": "code",
   "execution_count": 30,
   "metadata": {},
   "outputs": [],
   "source": [
    "# adding new column for reviews with stop words removed\n",
    "new_review = data['review'].apply(lambda x: ' '.join([word for word in x.split() if word not in (my_stopwords)]))"
   ]
  },
  {
   "cell_type": "code",
   "execution_count": 31,
   "metadata": {},
   "outputs": [],
   "source": [
    "data['new_review'] = new_review"
   ]
  },
  {
   "cell_type": "code",
   "execution_count": 32,
   "metadata": {},
   "outputs": [],
   "source": [
    "# tokenizing new_review column\n",
    "tokens = [nltk.wordpunct_tokenize(sentence) for sentence in data.new_review]"
   ]
  },
  {
   "cell_type": "code",
   "execution_count": 33,
   "metadata": {},
   "outputs": [],
   "source": [
    "# adding tokens as a column from the new_review column in the data frame\n",
    "data['tokenized'] = tokens"
   ]
  },
  {
   "cell_type": "code",
   "execution_count": 34,
   "metadata": {
    "scrolled": false
   },
   "outputs": [
    {
     "name": "stderr",
     "output_type": "stream",
     "text": [
      "[nltk_data] Downloading package words to\n",
      "[nltk_data]     /Users/michaelcondon/nltk_data...\n",
      "[nltk_data]   Package words is already up-to-date!\n"
     ]
    },
    {
     "data": {
      "text/plain": [
       "True"
      ]
     },
     "execution_count": 34,
     "metadata": {},
     "output_type": "execute_result"
    }
   ],
   "source": [
    "# Downloading corpus of words from nltk to use as an English word bank\n",
    "nltk.download('words')\n",
    "words = set(nltk.corpus.words.words())"
   ]
  },
  {
   "cell_type": "code",
   "execution_count": 35,
   "metadata": {},
   "outputs": [],
   "source": [
    "test = [w for w in data.tokenized[1] if w in words]"
   ]
  },
  {
   "cell_type": "code",
   "execution_count": 36,
   "metadata": {},
   "outputs": [],
   "source": [
    "# function to only select words that are present in our English word bank\n",
    "def eng_words(item):\n",
    "    e_words = \" \".join(w for w in item if w.lower() in words)\n",
    "    return e_words\n",
    "        "
   ]
  },
  {
   "cell_type": "code",
   "execution_count": 37,
   "metadata": {},
   "outputs": [],
   "source": [
    "# creating a new column of only English words from the tokenized using function\n",
    "data['eng_review'] = data.tokenized.apply(eng_words)"
   ]
  },
  {
   "cell_type": "code",
   "execution_count": 38,
   "metadata": {},
   "outputs": [],
   "source": [
    "# recalculating for polarity on new_review and eng_review\n",
    "data['new_polarity'] = data.new_review.apply(polarity)\n",
    "data['eng_polarity'] = data.eng_review.apply(polarity)"
   ]
  },
  {
   "cell_type": "code",
   "execution_count": 39,
   "metadata": {},
   "outputs": [],
   "source": [
    "# recalculating for subjectivity on new_review and eng_review\n",
    "data['new_subjectivity'] = data.new_review.apply(subjectivity)\n",
    "data['eng_subjectivity'] = data.eng_review.apply(subjectivity)"
   ]
  },
  {
   "cell_type": "code",
   "execution_count": 40,
   "metadata": {},
   "outputs": [],
   "source": [
    "# organizing data for plotly visualization and comparison to new columns\n",
    "hist_3 = go.Histogram(\n",
    "    x=data['new_polarity'],\n",
    "    opacity = 0.75,\n",
    "    name='New Polarity')\n",
    "\n",
    "hist_4 = go.Histogram(\n",
    "    x=data['new_subjectivity'],\n",
    "    opacity = 0.75,\n",
    "    name='New Subjectivity')\n",
    "\n",
    "hist_5 = go.Histogram(\n",
    "    x=data['eng_polarity'],\n",
    "    opacity = 0.75,\n",
    "    name='Eng Polarity')\n",
    "\n",
    "hist_6 = go.Histogram(\n",
    "    x=data['eng_subjectivity'],\n",
    "    opacity = 0.75,\n",
    "    name='Eng Subjectivity')\n",
    "\n",
    "hist_data = [hist_1, hist_3, hist_5, hist_2, hist_4, hist_6 ]"
   ]
  },
  {
   "cell_type": "code",
   "execution_count": 41,
   "metadata": {},
   "outputs": [
    {
     "data": {
      "text/plain": [
       "'Polarity vs Subjectivity(old, new, eng).html'"
      ]
     },
     "execution_count": 41,
     "metadata": {},
     "output_type": "execute_result"
    },
    {
     "data": {
      "text/html": [
       "<iframe\n",
       "    scrolling=\"no\"\n",
       "    width=\"100%\"\n",
       "    height=\"545px\"\n",
       "    src=\"iframe_figures/figure_41.html\"\n",
       "    frameborder=\"0\"\n",
       "    allowfullscreen\n",
       "></iframe>\n"
      ]
     },
     "metadata": {},
     "output_type": "display_data"
    }
   ],
   "source": [
    "# completing layout of plotly visualization and displaying the figure\n",
    "layout = go.Layout(\n",
    "    title='Polarity vs Subjectivity (Old, New, Eng)',\n",
    "    barmode='overlay')\n",
    "\n",
    "fig = go.Figure(data=hist_data, layout=layout)\n",
    "pyo.plot(fig, filename='Polarity vs Subjectivity(old, new, eng).html')\n",
    "fig.show()"
   ]
  },
  {
   "cell_type": "code",
   "execution_count": 42,
   "metadata": {
    "cell_style": "split",
    "scrolled": false
   },
   "outputs": [
    {
     "data": {
      "image/png": "[encoded data removed]",
      "text/plain": [
       "<Figure size 432x288 with 1 Axes>"
      ]
     },
     "metadata": {
      "needs_background": "light"
     },
     "output_type": "display_data"
    }
   ],
   "source": [
    "_=plt.title('Polarity split by sentiment')\n",
    "_=sns.distplot(data.polarity[data.sentiment=='positive'],label='positive')\n",
    "_=sns.distplot(data.polarity[data.sentiment=='negative'], color='red', label='negative')\n",
    "_=plt.ylim(0,0.05)\n",
    "_=plt.legend()"
   ]
  },
  {
   "cell_type": "code",
   "execution_count": 43,
   "metadata": {
    "cell_style": "split",
    "scrolled": false
   },
   "outputs": [
    {
     "data": {
      "image/png": "[encoded data removed]",
      "text/plain": [
       "<Figure size 432x288 with 1 Axes>"
      ]
     },
     "metadata": {
      "needs_background": "light"
     },
     "output_type": "display_data"
    }
   ],
   "source": [
    "_=plt.title('Subjectivity split by sentiment')\n",
    "_=sns.distplot(data.subjectivity[data.sentiment=='positive'],color='green',label='positive')\n",
    "_=sns.distplot(data.subjectivity[data.sentiment=='negative'], color='red', label='negative')\n",
    "_=plt.legend()\n",
    "_=plt.ylim(0,0.05)"
   ]
  },
  {
   "cell_type": "code",
   "execution_count": 44,
   "metadata": {
    "cell_style": "split"
   },
   "outputs": [
    {
     "data": {
      "image/png": "[encoded data removed]",
      "text/plain": [
       "<Figure size 432x288 with 1 Axes>"
      ]
     },
     "metadata": {
      "needs_background": "light"
     },
     "output_type": "display_data"
    }
   ],
   "source": [
    "_=plt.title('New-Polarity split by sentiment')\n",
    "_=sns.distplot(data.new_polarity[data.sentiment=='positive'],label='positive')\n",
    "_=sns.distplot(data.new_polarity[data.sentiment=='negative'], color='red', label='negative')\n",
    "_=plt.legend()\n",
    "_=plt.ylim(0,0.05)"
   ]
  },
  {
   "cell_type": "code",
   "execution_count": 45,
   "metadata": {
    "cell_style": "split",
    "scrolled": false
   },
   "outputs": [
    {
     "data": {
      "image/png": "[encoded data removed]",
      "text/plain": [
       "<Figure size 432x288 with 1 Axes>"
      ]
     },
     "metadata": {
      "needs_background": "light"
     },
     "output_type": "display_data"
    }
   ],
   "source": [
    "_=plt.title('New-Subjectivity split by sentiment')\n",
    "_=sns.distplot(data.new_subjectivity[data.sentiment=='positive'],color='green',label='positive')\n",
    "_=sns.distplot(data.new_subjectivity[data.sentiment=='negative'], color='red', label='negative')\n",
    "_=plt.legend()\n",
    "_=plt.ylim(0,0.05)"
   ]
  },
  {
   "cell_type": "markdown",
   "metadata": {
    "cell_style": "center"
   },
   "source": [
    "***Distribution peaks are a bit more flat for the new_review and eng_review columns, but no real change in polarity or subjectivity by removing stop words and only accounting for English words***"
   ]
  },
  {
   "cell_type": "markdown",
   "metadata": {},
   "source": [
    "> ## <font color=brown>Correlation of review score and polarity<br>"
   ]
  },
  {
   "cell_type": "code",
   "execution_count": 46,
   "metadata": {},
   "outputs": [],
   "source": [
    "# creating review score of either 1(like) or 0(dislike) based on setiment column\n",
    "score = {'positive':1,'negative':0}\n",
    "data['review_score'] = map(data.sentiment,score)"
   ]
  },
  {
   "cell_type": "code",
   "execution_count": 47,
   "metadata": {},
   "outputs": [],
   "source": [
    "# creating review score of either 1(like) or 0(dislike) based on setiment column\n",
    "data['review_score'] = data['sentiment'].apply(lambda x: 1 if x == 'positive' else 0)"
   ]
  },
  {
   "cell_type": "code",
   "execution_count": 48,
   "metadata": {},
   "outputs": [],
   "source": [
    "# organizing data for plotly visualization \n",
    "scatter_pos = go.Scattergl(\n",
    "    x=data[data.review_score == 1]['eng_polarity'],\n",
    "    y=data['eng_subjectivity'],\n",
    "    mode = 'markers',\n",
    "    opacity = 0.55,\n",
    "    name='Positive review scores')\n",
    "\n",
    "scatter_neg = go.Scatter(\n",
    "    x=data[data.review_score == 0]['eng_polarity'],\n",
    "    y=data['eng_subjectivity'],\n",
    "    mode = 'markers',\n",
    "    opacity = 0.55,\n",
    "    name='Negative review scores')\n",
    "\n",
    "scatter_data = [scatter_pos, scatter_neg]"
   ]
  },
  {
   "cell_type": "code",
   "execution_count": 49,
   "metadata": {},
   "outputs": [
    {
     "data": {
      "text/plain": [
       "'review_score_scatter.html'"
      ]
     },
     "execution_count": 49,
     "metadata": {},
     "output_type": "execute_result"
    },
    {
     "data": {
      "text/html": [
       "<iframe\n",
       "    scrolling=\"no\"\n",
       "    width=\"100%\"\n",
       "    height=\"545px\"\n",
       "    src=\"iframe_figures/figure_49.html\"\n",
       "    frameborder=\"0\"\n",
       "    allowfullscreen\n",
       "></iframe>\n"
      ]
     },
     "metadata": {},
     "output_type": "display_data"
    }
   ],
   "source": [
    "# completing layout of plotly visualization \n",
    "layout = go.Layout(\n",
    "    title='Review Score Scatterplot',\n",
    "    xaxis_title='polarity',\n",
    "    yaxis_title='subjectivity')\n",
    "\n",
    "fig = go.Figure(data=scatter_data, layout=layout)\n",
    "pyo.plot(fig, filename='review_score_scatter.html')\n",
    "fig.show()"
   ]
  },
  {
   "cell_type": "markdown",
   "metadata": {},
   "source": [
    "***The model seems to score polarity more extreme if there is an average amount of subjectivity***"
   ]
  },
  {
   "cell_type": "code",
   "execution_count": 50,
   "metadata": {},
   "outputs": [
    {
     "data": {
      "text/html": [
       "<div>\n",
       "<style scoped>\n",
       "    .dataframe tbody tr th:only-of-type {\n",
       "        vertical-align: middle;\n",
       "    }\n",
       "\n",
       "    .dataframe tbody tr th {\n",
       "        vertical-align: top;\n",
       "    }\n",
       "\n",
       "    .dataframe thead th {\n",
       "        text-align: right;\n",
       "    }\n",
       "</style>\n",
       "<table border=\"1\" class=\"dataframe\">\n",
       "  <thead>\n",
       "    <tr style=\"text-align: right;\">\n",
       "      <th></th>\n",
       "      <th>review</th>\n",
       "      <th>sentiment</th>\n",
       "      <th>language</th>\n",
       "      <th>lang_assurance</th>\n",
       "      <th>review_len</th>\n",
       "      <th>polarity</th>\n",
       "      <th>subjectivity</th>\n",
       "      <th>new_review</th>\n",
       "      <th>tokenized</th>\n",
       "      <th>eng_review</th>\n",
       "      <th>new_polarity</th>\n",
       "      <th>eng_polarity</th>\n",
       "      <th>new_subjectivity</th>\n",
       "      <th>eng_subjectivity</th>\n",
       "      <th>review_score</th>\n",
       "    </tr>\n",
       "  </thead>\n",
       "  <tbody>\n",
       "    <tr>\n",
       "      <th>0</th>\n",
       "      <td>One of the other reviewers has mentioned that ...</td>\n",
       "      <td>positive</td>\n",
       "      <td>en</td>\n",
       "      <td>0.999996</td>\n",
       "      <td>1761</td>\n",
       "      <td>2.343318</td>\n",
       "      <td>49.036866</td>\n",
       "      <td>reviewers mentioned watching just 1 Oz episode...</td>\n",
       "      <td>[reviewers, mentioned, watching, just, 1, Oz, ...</td>\n",
       "      <td>watching just episode you hooked right exactly...</td>\n",
       "      <td>4.465714</td>\n",
       "      <td>7.360119</td>\n",
       "      <td>52.139048</td>\n",
       "      <td>53.061508</td>\n",
       "      <td>1</td>\n",
       "    </tr>\n",
       "  </tbody>\n",
       "</table>\n",
       "</div>"
      ],
      "text/plain": [
       "                                              review sentiment language  \\\n",
       "0  One of the other reviewers has mentioned that ...  positive       en   \n",
       "\n",
       "   lang_assurance  review_len  polarity  subjectivity  \\\n",
       "0        0.999996        1761  2.343318     49.036866   \n",
       "\n",
       "                                          new_review  \\\n",
       "0  reviewers mentioned watching just 1 Oz episode...   \n",
       "\n",
       "                                           tokenized  \\\n",
       "0  [reviewers, mentioned, watching, just, 1, Oz, ...   \n",
       "\n",
       "                                          eng_review  new_polarity  \\\n",
       "0  watching just episode you hooked right exactly...      4.465714   \n",
       "\n",
       "   eng_polarity  new_subjectivity  eng_subjectivity  review_score  \n",
       "0      7.360119         52.139048         53.061508             1  "
      ]
     },
     "execution_count": 50,
     "metadata": {},
     "output_type": "execute_result"
    }
   ],
   "source": [
    "data.head(1)"
   ]
  },
  {
   "cell_type": "code",
   "execution_count": 51,
   "metadata": {},
   "outputs": [],
   "source": [
    "polarity_accuracy = []\n",
    "\n",
    "def accuracy (x):\n",
    "    for i in range(len(x)):\n",
    "        if x.review_score[i] == 0:\n",
    "            if x.eng_polarity[i] < 0:\n",
    "                polarity_accuracy.append('Correct')\n",
    "            else:\n",
    "                polarity_accuracy.append('Incorrect')\n",
    "        else:\n",
    "            if x.eng_polarity[i] >= 0:\n",
    "                polarity_accuracy.append('Correct')\n",
    "            else:\n",
    "                polarity_accuracy.append('Incorrect')\n",
    "        \n",
    "accuracy(data)"
   ]
  },
  {
   "cell_type": "code",
   "execution_count": 52,
   "metadata": {},
   "outputs": [],
   "source": [
    "# adding polarity accuracy list to data frame\n",
    "data['polarity_accuracy'] = polarity_accuracy"
   ]
  },
  {
   "cell_type": "code",
   "execution_count": 53,
   "metadata": {},
   "outputs": [],
   "source": [
    "correct_pos = len(data[(data.review_score==1) & (data.polarity_accuracy=='Correct')])\n",
    "correct_neg = len(data[(data.review_score==0) & (data.polarity_accuracy=='Correct')])\n",
    "\n",
    "incorrect_pos = len(data[(data.review_score==1) & (data.polarity_accuracy=='Incorrect')])\n",
    "incorrect_neg = len(data[(data.review_score==0) & (data.polarity_accuracy=='Incorrect')])\n"
   ]
  },
  {
   "cell_type": "code",
   "execution_count": 88,
   "metadata": {},
   "outputs": [],
   "source": [
    "total_correct = correct_pos+correct_neg\n",
    "total_incorrect = incorrect_pos+incorrect_neg"
   ]
  },
  {
   "cell_type": "code",
   "execution_count": 94,
   "metadata": {},
   "outputs": [
    {
     "data": {
      "text/html": [
       "<iframe\n",
       "    scrolling=\"no\"\n",
       "    width=\"820px\"\n",
       "    height=\"420\"\n",
       "    src=\"iframe_figures/figure_94.html\"\n",
       "    frameborder=\"0\"\n",
       "    allowfullscreen\n",
       "></iframe>\n"
      ]
     },
     "metadata": {},
     "output_type": "display_data"
    },
    {
     "data": {
      "text/plain": [
       "'correct_calculations.html'"
      ]
     },
     "execution_count": 94,
     "metadata": {},
     "output_type": "execute_result"
    }
   ],
   "source": [
    "labels = ['Correct', 'Incorrect']\n",
    "values = [total_correct, total_incorrect]\n",
    "\n",
    "fig = go.Figure(data=[go.Pie(labels=labels, values=values)])\n",
    "fig.update_layout(title='Correct vs Incorrect Polarity Calculations',\n",
    "                  width=800,\n",
    "                  height=400)\n",
    "pyo.plot(fig, filename='correct_calculations.html')"
   ]
  },
  {
   "cell_type": "code",
   "execution_count": 93,
   "metadata": {},
   "outputs": [
    {
     "data": {
      "text/html": [
       "<iframe\n",
       "    scrolling=\"no\"\n",
       "    width=\"820px\"\n",
       "    height=\"420\"\n",
       "    src=\"iframe_figures/figure_93.html\"\n",
       "    frameborder=\"0\"\n",
       "    allowfullscreen\n",
       "></iframe>\n"
      ]
     },
     "metadata": {},
     "output_type": "display_data"
    },
    {
     "data": {
      "text/plain": [
       "'correct_calculations_breakdown.html'"
      ]
     },
     "execution_count": 93,
     "metadata": {},
     "output_type": "execute_result"
    }
   ],
   "source": [
    "labels = ['Correct Positives', 'Incorrect Positives', \"Correct Negatives\", \"Incorrect Negatives\"]\n",
    "values = [correct_pos,incorrect_pos,correct_neg,incorrect_neg]\n",
    "\n",
    "fig = go.Figure(data=[go.Pie(labels=labels, values=values)])\n",
    "fig.update_layout(title='Correct vs Incorrect Polarity Calculations Breakdown',\n",
    "                  width=800,\n",
    "                  height=400)\n",
    "pyo.plot(fig, filename='correct_calculations_breakdown.html')"
   ]
  },
  {
   "cell_type": "code",
   "execution_count": 54,
   "metadata": {},
   "outputs": [],
   "source": [
    "correct_pos_rate = correct_pos/(correct_pos+incorrect_pos)\n",
    "correct_neg_rate = correct_neg/(correct_neg+incorrect_neg)"
   ]
  },
  {
   "cell_type": "code",
   "execution_count": 55,
   "metadata": {
    "scrolled": true
   },
   "outputs": [
    {
     "name": "stdout",
     "output_type": "stream",
     "text": [
      "The machine calculated positive polarity with positive review scores 92.196% of the time\n",
      "The machine calculated negative polarity with negative review scores 50.192% of the time\n"
     ]
    }
   ],
   "source": [
    "print('The machine calculated positive polarity with positive review scores {}% of the time'.format(correct_pos_rate*100))\n",
    "print('The machine calculated negative polarity with negative review scores {}% of the time'.format(correct_neg_rate*100))"
   ]
  },
  {
   "cell_type": "markdown",
   "metadata": {},
   "source": [
    "***The machine is better at predicting positive sentiment with positive reviews***\n",
    "***The machine is poor at predicting negative reviews with only a 50% accuracy***"
   ]
  },
  {
   "cell_type": "code",
   "execution_count": 56,
   "metadata": {},
   "outputs": [],
   "source": [
    "# grouping data\n",
    "grouped = data.groupby(['review_score','polarity_accuracy']).agg(\n",
    "                                 polarity_avg = ('eng_polarity','mean'), \n",
    "                                 subjectivity_avg=('eng_subjectivity','mean')).reset_index()"
   ]
  },
  {
   "cell_type": "code",
   "execution_count": 57,
   "metadata": {
    "scrolled": false
   },
   "outputs": [
    {
     "data": {
      "text/html": [
       "<div>\n",
       "<style scoped>\n",
       "    .dataframe tbody tr th:only-of-type {\n",
       "        vertical-align: middle;\n",
       "    }\n",
       "\n",
       "    .dataframe tbody tr th {\n",
       "        vertical-align: top;\n",
       "    }\n",
       "\n",
       "    .dataframe thead th {\n",
       "        text-align: right;\n",
       "    }\n",
       "</style>\n",
       "<table border=\"1\" class=\"dataframe\">\n",
       "  <thead>\n",
       "    <tr style=\"text-align: right;\">\n",
       "      <th></th>\n",
       "      <th>review_score</th>\n",
       "      <th>polarity_accuracy</th>\n",
       "      <th>polarity_avg</th>\n",
       "      <th>subjectivity_avg</th>\n",
       "    </tr>\n",
       "  </thead>\n",
       "  <tbody>\n",
       "    <tr>\n",
       "      <th>0</th>\n",
       "      <td>0</td>\n",
       "      <td>Correct</td>\n",
       "      <td>-13.430086</td>\n",
       "      <td>57.302111</td>\n",
       "    </tr>\n",
       "    <tr>\n",
       "      <th>1</th>\n",
       "      <td>0</td>\n",
       "      <td>Incorrect</td>\n",
       "      <td>11.316147</td>\n",
       "      <td>53.721003</td>\n",
       "    </tr>\n",
       "    <tr>\n",
       "      <th>2</th>\n",
       "      <td>1</td>\n",
       "      <td>Correct</td>\n",
       "      <td>21.779235</td>\n",
       "      <td>55.609451</td>\n",
       "    </tr>\n",
       "    <tr>\n",
       "      <th>3</th>\n",
       "      <td>1</td>\n",
       "      <td>Incorrect</td>\n",
       "      <td>-8.015879</td>\n",
       "      <td>55.804632</td>\n",
       "    </tr>\n",
       "  </tbody>\n",
       "</table>\n",
       "</div>"
      ],
      "text/plain": [
       "   review_score polarity_accuracy  polarity_avg  subjectivity_avg\n",
       "0             0           Correct    -13.430086         57.302111\n",
       "1             0         Incorrect     11.316147         53.721003\n",
       "2             1           Correct     21.779235         55.609451\n",
       "3             1         Incorrect     -8.015879         55.804632"
      ]
     },
     "execution_count": 57,
     "metadata": {},
     "output_type": "execute_result"
    }
   ],
   "source": [
    "# looking at average polarity for correct and incorrect calcualtions\n",
    "grouped"
   ]
  },
  {
   "cell_type": "code",
   "execution_count": 85,
   "metadata": {
    "scrolled": true
   },
   "outputs": [
    {
     "data": {
      "text/html": [
       "<iframe\n",
       "    scrolling=\"no\"\n",
       "    width=\"820px\"\n",
       "    height=\"420\"\n",
       "    src=\"iframe_figures/figure_85.html\"\n",
       "    frameborder=\"0\"\n",
       "    allowfullscreen\n",
       "></iframe>\n"
      ]
     },
     "metadata": {},
     "output_type": "display_data"
    }
   ],
   "source": [
    "accuracy=['Correct calculation','Incorrect calculation']\n",
    "avg_polarity_pos=list(grouped[grouped.review_score==1].polarity_avg)\n",
    "avg_polarity_neg=list(grouped[grouped.review_score==0].polarity_avg)\n",
    "\n",
    "fig = go.Figure(data=[\n",
    "    go.Bar(name='Liked', x=accuracy, y=avg_polarity_pos),\n",
    "    go.Bar(name='Disliked', x=accuracy, y=avg_polarity_neg)\n",
    "])\n",
    "# Change the bar mode\n",
    "fig.update_layout(barmode='group',\n",
    "                  xaxis_title='Calculation', \n",
    "                  yaxis_title='Avg. Polarity',\n",
    "                  width=800,\n",
    "                  height=400)\n"
   ]
  },
  {
   "cell_type": "code",
   "execution_count": 86,
   "metadata": {
    "scrolled": true
   },
   "outputs": [
    {
     "data": {
      "text/html": [
       "<iframe\n",
       "    scrolling=\"no\"\n",
       "    width=\"820px\"\n",
       "    height=\"420\"\n",
       "    src=\"iframe_figures/figure_86.html\"\n",
       "    frameborder=\"0\"\n",
       "    allowfullscreen\n",
       "></iframe>\n"
      ]
     },
     "metadata": {},
     "output_type": "display_data"
    },
    {
     "data": {
      "text/plain": [
       "'polarity_violin.html'"
      ]
     },
     "execution_count": 86,
     "metadata": {},
     "output_type": "execute_result"
    }
   ],
   "source": [
    "fig = go.Figure(data=[\n",
    "    go.Violin(x=data['review_score'][ data['review_score'] == 1 ],\n",
    "                        y=data['eng_polarity'][ data['review_score']==1],\n",
    "                        legendgroup='Liked',\n",
    "                        scalegroup='Liked', \n",
    "                        name='Liked',\n",
    "                        line_color='blue',\n",
    "                        box_visible=True,\n",
    "                        meanline_visible=True),\n",
    "    go.Violin(x=data['review_score'][ data['review_score'] == 0 ],\n",
    "                        y=data['eng_polarity'][ data['review_score'] == 0 ],\n",
    "                        legendgroup='Disliked', \n",
    "                        scalegroup='Disiked',\n",
    "                        name='Disliked',\n",
    "                        line_color='orange',\n",
    "                        box_visible=True,\n",
    "                        meanline_visible=True)\n",
    "])\n",
    "# Change the layout\n",
    "fig.update_layout(violinmode='group',\n",
    "                  title='Distribution of Polarity in Review Scores',\n",
    "                  xaxis_title='User review score', \n",
    "                  yaxis_title='Polarity',\n",
    "                  width=800,\n",
    "                  height=400)\n",
    "pyo.plot(fig, filename='polarity_violin.html')\n"
   ]
  },
  {
   "cell_type": "code",
   "execution_count": 87,
   "metadata": {
    "scrolled": true
   },
   "outputs": [
    {
     "data": {
      "text/html": [
       "<iframe\n",
       "    scrolling=\"no\"\n",
       "    width=\"820px\"\n",
       "    height=\"420\"\n",
       "    src=\"iframe_figures/figure_87.html\"\n",
       "    frameborder=\"0\"\n",
       "    allowfullscreen\n",
       "></iframe>\n"
      ]
     },
     "metadata": {},
     "output_type": "display_data"
    },
    {
     "data": {
      "text/plain": [
       "'accuracy_polarity_violin.html'"
      ]
     },
     "execution_count": 87,
     "metadata": {},
     "output_type": "execute_result"
    }
   ],
   "source": [
    "fig = go.Figure(data=[\n",
    "    go.Violin(x=data['polarity_accuracy'][ data['review_score'] == 1 ],\n",
    "                        y=data['eng_polarity'][ data['review_score'] == 1 ],\n",
    "                        legendgroup='Liked',\n",
    "                        scalegroup='Liked', \n",
    "                        name='Liked',\n",
    "                        line_color='blue',\n",
    "                        box_visible=True,\n",
    "                        meanline_visible=True),\n",
    "    go.Violin(x=data['polarity_accuracy'][ data['review_score'] == 0 ],\n",
    "                        y=data['eng_polarity'][ data['review_score'] == 0 ],\n",
    "                        legendgroup='Disliked', \n",
    "                        scalegroup='Disiked',\n",
    "                        name='Disliked',\n",
    "                        line_color='orange',\n",
    "                        box_visible=True,\n",
    "                        meanline_visible=True)\n",
    "])\n",
    "# Change the layout\n",
    "fig.update_layout(violinmode='group',\n",
    "                  title='Distribution of Polarity in Accuracy',\n",
    "                  xaxis_title='Accuracy', \n",
    "                  yaxis_title='Polarity',\n",
    "                  width=800,\n",
    "                  height=400)\n",
    "pyo.plot(fig, filename='accuracy_polarity_violin.html')\n"
   ]
  },
  {
   "cell_type": "markdown",
   "metadata": {},
   "source": [
    "***The machine is better at predicting positive sentiment with positive reviews***\n",
    "***The machine is poor at predicting negative reviews with only a 50% accuracy***"
   ]
  },
  {
   "cell_type": "code",
   "execution_count": null,
   "metadata": {},
   "outputs": [],
   "source": []
  }
 ],
 "metadata": {
  "kernelspec": {
   "display_name": "Python 3",
   "language": "python",
   "name": "python3"
  },
  "language_info": {
   "codemirror_mode": {
    "name": "ipython",
    "version": 3
   },
   "file_extension": ".py",
   "mimetype": "text/x-python",
   "name": "python",
   "nbconvert_exporter": "python",
   "pygments_lexer": "ipython3",
   "version": "3.7.3"
  },
  "toc": {
   "base_numbering": 1,
   "nav_menu": {},
   "number_sections": true,
   "sideBar": true,
   "skip_h1_title": false,
   "title_cell": "Table of Contents",
   "title_sidebar": "Contents",
   "toc_cell": false,
   "toc_position": {},
   "toc_section_display": true,
   "toc_window_display": true
  },
  "varInspector": {
   "cols": {
    "lenName": 16,
    "lenType": 16,
    "lenVar": 40
   },
   "kernels_config": {
    "python": {
     "delete_cmd_postfix": "",
     "delete_cmd_prefix": "del ",
     "library": "var_list.py",
     "varRefreshCmd": "print(var_dic_list())"
    },
    "r": {
     "delete_cmd_postfix": ") ",
     "delete_cmd_prefix": "rm(",
     "library": "var_list.r",
     "varRefreshCmd": "cat(var_dic_list()) "
    }
   },
   "types_to_exclude": [
    "module",
    "function",
    "builtin_function_or_method",
    "instance",
    "_Feature"
   ],
   "window_display": false
  }
 },
 "nbformat": 4,
 "nbformat_minor": 4
}
