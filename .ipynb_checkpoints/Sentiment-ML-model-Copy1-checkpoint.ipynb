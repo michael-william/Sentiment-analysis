{
 "cells": [
  {
   "cell_type": "markdown",
   "metadata": {},
   "source": [
    "<font size = 40 color=darkgreen>Sentiment Analysis</font><br>\n",
    "Sentiment analysis is the process of understanding the opinion of an author about a subject. This is comprised of 3 elements:\n",
    "1. The opinion (*Positive - Neutral - Negative*) and/or emotion (*Joy - Surprise - Anger - Disgust*) \n",
    "2. The subject being talked about\n",
    "3. Opinion holder<br>\n",
    "\n",
    "Sentiment analysis is used to give insight how people are talking about a subject.<BR> \n",
    "Some common areas of application are:\n",
    "- Social media monitoring\n",
    "- Brand monitoring\n",
    "- Customer service\n",
    "- Product analysis\n",
    "- Market research and analysis<BR>"
   ]
  },
  {
   "cell_type": "markdown",
   "metadata": {},
   "source": [
    "<font size=5 color=darkgreen>Movie Review Model</font><br>\n",
    "Using Logistic regression to predict the probability of sentiment is positive or negative given a movie review.<br>\n",
    "This model will be using a cleaned version of the data found on Kaggle:<br> https://www.kaggle.com/lakshmi25npathi/imdb-dataset-of-50k-movie-reviews#*<br><br>\n",
    "Please see other notebook for cleaning the data:<BR>\n",
    "https://github.com/michael-william/Sentiment-analysis/blob/master/Sentiment-analysis.ipynb<br><br>\n",
    "**Steps for building the model:**<br>\n",
    "1. Importing libraries and reading data\n",
    "2. Calling the model \n",
    "3. "
   ]
  },
  {
   "cell_type": "markdown",
   "metadata": {},
   "source": [
    "# <font color=teal>Import data</font>"
   ]
  },
  {
   "cell_type": "code",
   "execution_count": 9,
   "metadata": {},
   "outputs": [
    {
     "data": {
      "text/plain": [
       "20"
      ]
     },
     "execution_count": 9,
     "metadata": {},
     "output_type": "execute_result"
    }
   ],
   "source": [
    "# Data manipulation\n",
    "import pandas as pd\n",
    "import numpy as np\n",
    "from textblob import TextBlob\n",
    "from wordcloud import WordCloud, STOPWORDS\n",
    "import nltk\n",
    "from nltk import word_tokenize\n",
    "from langdetect import detect_langs\n",
    "\n",
    "\n",
    "#ML libraries\n",
    "from sklearn.feature_extraction.text import CountVectorizer, ENGLISH_STOP_WORDS\n",
    "from sklearn.linear_model import LogisticRegression\n",
    "from sklearn.metrics import accuracy_score\n",
    "\n",
    "# Options for pandas\n",
    "pd.options.display.max_columns\n",
    "pd.options.display.max_rows = 30\n",
    "\n",
    "# Display all cell outputs\n",
    "from IPython.core.interactiveshell import InteractiveShell\n",
    "InteractiveShell.ast_node_interactivity = 'all'\n",
    "\n",
    "from IPython import get_ipython\n",
    "ipython = get_ipython()\n",
    "\n",
    "# autoreload extension\n",
    "if 'autoreload' not in ipython.extension_manager.loaded:\n",
    "    %load_ext autoreload\n",
    "\n",
    "%autoreload 2\n",
    "\n",
    "# Visualizations\n",
    "from matplotlib import pyplot as plt\n",
    "import seaborn as sns\n",
    "import plotly.graph_objs as go\n",
    "#import plotly.figure_factory as ff\n",
    "import plotly.io as pio\n",
    "import plotly.offline as pyo\n",
    "pio.renderers.default = 'iframe'"
   ]
  },
  {
   "cell_type": "code",
   "execution_count": 5,
   "metadata": {},
   "outputs": [],
   "source": [
    "#Git\n",
    "source = 'https://github.com/michael-william/Sentiment-analysis/raw/master/IMDB_Dataset_clean.csv'\n",
    "df = pd.read_csv(source)"
   ]
  },
  {
   "cell_type": "markdown",
   "metadata": {},
   "source": [
    "# <font color=teal>Model</font>"
   ]
  },
  {
   "cell_type": "markdown",
   "metadata": {},
   "source": [
    "> ## <font color=brown>Transforming the data to a BOW data frame<br>\n",
    "Build the vectorizer with the following parameters: <BR>\n",
    "    - The size of the vocabulary should be limited to 1000 \n",
    "    - Include only bigrams\n",
    "    - Ignoring terms that appear in more than 500 documents."
   ]
  },
  {
   "cell_type": "code",
   "execution_count": 21,
   "metadata": {},
   "outputs": [],
   "source": [
    "# Creating copy of main df\n",
    "data = df[['sentiment', 'eng_review', 'eng_polarity',\n",
    "       'eng_subjectivity', 'review_score', 'polarity_accuracy']]"
   ]
  },
  {
   "cell_type": "code",
   "execution_count": 26,
   "metadata": {},
   "outputs": [
    {
     "data": {
      "text/html": [
       "<div>\n",
       "<style scoped>\n",
       "    .dataframe tbody tr th:only-of-type {\n",
       "        vertical-align: middle;\n",
       "    }\n",
       "\n",
       "    .dataframe tbody tr th {\n",
       "        vertical-align: top;\n",
       "    }\n",
       "\n",
       "    .dataframe thead th {\n",
       "        text-align: right;\n",
       "    }\n",
       "</style>\n",
       "<table border=\"1\" class=\"dataframe\">\n",
       "  <thead>\n",
       "    <tr style=\"text-align: right;\">\n",
       "      <th></th>\n",
       "      <th>sentiment</th>\n",
       "      <th>eng_review</th>\n",
       "      <th>eng_polarity</th>\n",
       "      <th>eng_subjectivity</th>\n",
       "      <th>review_score</th>\n",
       "      <th>polarity_accuracy</th>\n",
       "    </tr>\n",
       "  </thead>\n",
       "  <tbody>\n",
       "    <tr>\n",
       "      <th>0</th>\n",
       "      <td>positive</td>\n",
       "      <td>watching just episode you hooked right exactly...</td>\n",
       "      <td>7.360119</td>\n",
       "      <td>53.061508</td>\n",
       "      <td>1</td>\n",
       "      <td>Correct</td>\n",
       "    </tr>\n",
       "    <tr>\n",
       "      <th>1</th>\n",
       "      <td>positive</td>\n",
       "      <td>wonderful little production The technique unas...</td>\n",
       "      <td>12.598039</td>\n",
       "      <td>54.607843</td>\n",
       "      <td>1</td>\n",
       "      <td>Correct</td>\n",
       "    </tr>\n",
       "    <tr>\n",
       "      <th>2</th>\n",
       "      <td>positive</td>\n",
       "      <td>thought wonderful way spend time hot summer we...</td>\n",
       "      <td>29.571429</td>\n",
       "      <td>69.904762</td>\n",
       "      <td>1</td>\n",
       "      <td>Correct</td>\n",
       "    </tr>\n",
       "    <tr>\n",
       "      <th>3</th>\n",
       "      <td>negative</td>\n",
       "      <td>Basically there s family little boy Jake there...</td>\n",
       "      <td>-8.125000</td>\n",
       "      <td>57.500000</td>\n",
       "      <td>0</td>\n",
       "      <td>Correct</td>\n",
       "    </tr>\n",
       "    <tr>\n",
       "      <th>4</th>\n",
       "      <td>positive</td>\n",
       "      <td>Petter s Love Time Money visually stunning wat...</td>\n",
       "      <td>21.739268</td>\n",
       "      <td>45.713384</td>\n",
       "      <td>1</td>\n",
       "      <td>Correct</td>\n",
       "    </tr>\n",
       "  </tbody>\n",
       "</table>\n",
       "</div>"
      ],
      "text/plain": [
       "  sentiment                                         eng_review  eng_polarity  \\\n",
       "0  positive  watching just episode you hooked right exactly...      7.360119   \n",
       "1  positive  wonderful little production The technique unas...     12.598039   \n",
       "2  positive  thought wonderful way spend time hot summer we...     29.571429   \n",
       "3  negative  Basically there s family little boy Jake there...     -8.125000   \n",
       "4  positive  Petter s Love Time Money visually stunning wat...     21.739268   \n",
       "\n",
       "   eng_subjectivity  review_score polarity_accuracy  \n",
       "0         53.061508             1           Correct  \n",
       "1         54.607843             1           Correct  \n",
       "2         69.904762             1           Correct  \n",
       "3         57.500000             0           Correct  \n",
       "4         45.713384             1           Correct  "
      ]
     },
     "execution_count": 26,
     "metadata": {},
     "output_type": "execute_result"
    }
   ],
   "source": [
    "data.head()"
   ]
  },
  {
   "cell_type": "code",
   "execution_count": 29,
   "metadata": {
    "cell_style": "center",
    "scrolled": true
   },
   "outputs": [
    {
     "data": {
      "text/plain": [
       "CountVectorizer(analyzer='word', binary=False, decode_error='strict',\n",
       "                dtype=<class 'numpy.int64'>, encoding='utf-8', input='content',\n",
       "                lowercase=True, max_df=1.0, max_features=1000, min_df=1,\n",
       "                ngram_range=(1, 1), preprocessor=None, stop_words=None,\n",
       "                strip_accents=None, token_pattern='(?u)\\\\b\\\\w\\\\w+\\\\b',\n",
       "                tokenizer=None, vocabulary=None)"
      ]
     },
     "execution_count": 29,
     "metadata": {},
     "output_type": "execute_result"
    },
    {
     "name": "stdout",
     "output_type": "stream",
     "text": [
      "   ability  able  about  absolutely  accent  act  acting  action  actor  \\\n",
      "0        0     0      0           0       0    0       0       0      0   \n",
      "1        0     0      0           0       0    0       0       0      0   \n",
      "2        0     0      0           0       0    0       0       0      0   \n",
      "3        0     0      0           0       0    0       0       0      0   \n",
      "4        0     0      0           0       0    0       1       1      0   \n",
      "\n",
      "   actress  ...  wrote  yeah  year  yes  yet  york  you  young  younger  \\\n",
      "0        0  ...      0     0     0    0    0     0    1      0        0   \n",
      "1        0  ...      0     0     0    0    0     0    0      0        0   \n",
      "2        0  ...      0     0     0    0    0     0    0      1        0   \n",
      "3        0  ...      0     0     0    0    0     0    1      0        0   \n",
      "4        0  ...      0     0     0    0    0     1    0      0        0   \n",
      "\n",
      "   zombie  \n",
      "0       0  \n",
      "1       0  \n",
      "2       0  \n",
      "3       2  \n",
      "4       0  \n",
      "\n",
      "[5 rows x 1000 columns]\n"
     ]
    }
   ],
   "source": [
    "# Build the vectorizer, specify max features and fit\n",
    "vect = CountVectorizer(max_features=1000)\n",
    "vect.fit(data.eng_review)\n",
    "\n",
    "# Transform the review\n",
    "bow_review = vect.transform(data.eng_review)\n",
    "\n",
    "# Create a DataFrame from the bow representation\n",
    "bow_df = pd.DataFrame(bow_review.toarray(), columns=vect.get_feature_names())\n",
    "print(bow_df.head())"
   ]
  },
  {
   "cell_type": "code",
   "execution_count": 32,
   "metadata": {},
   "outputs": [
    {
     "data": {
      "text/plain": [
       "<50000x1000 sparse matrix of type '<class 'numpy.int64'>'\n",
       "\twith 2282044 stored elements in Compressed Sparse Row format>"
      ]
     },
     "execution_count": 32,
     "metadata": {},
     "output_type": "execute_result"
    }
   ],
   "source": [
    "bow_review"
   ]
  },
  {
   "cell_type": "markdown",
   "metadata": {},
   "source": [
    "> ## <font color=brown>Build a LogisticRegression model<br>\n",
    "    - Create and fit a logistic regression on the labels y and the features X \n",
    "    - Calculate the accuracy of the logistic regression model"
   ]
  },
  {
   "cell_type": "code",
   "execution_count": 28,
   "metadata": {},
   "outputs": [
    {
     "ename": "AttributeError",
     "evalue": "'DataFrame' object has no attribute 'review_score'",
     "output_type": "error",
     "traceback": [
      "\u001b[0;31m---------------------------------------------------------------------------\u001b[0m",
      "\u001b[0;31mAttributeError\u001b[0m                            Traceback (most recent call last)",
      "\u001b[0;32m<ipython-input-28-a41d0552d4f7>\u001b[0m in \u001b[0;36m<module>\u001b[0;34m\u001b[0m\n\u001b[1;32m      1\u001b[0m \u001b[0;31m# Define the vector of targets and matrix of features\u001b[0m\u001b[0;34m\u001b[0m\u001b[0;34m\u001b[0m\u001b[0;34m\u001b[0m\u001b[0m\n\u001b[0;32m----> 2\u001b[0;31m \u001b[0my\u001b[0m \u001b[0;34m=\u001b[0m \u001b[0mbow_df\u001b[0m\u001b[0;34m.\u001b[0m\u001b[0mreview_score\u001b[0m\u001b[0;34m\u001b[0m\u001b[0;34m\u001b[0m\u001b[0m\n\u001b[0m\u001b[1;32m      3\u001b[0m \u001b[0mX\u001b[0m \u001b[0;34m=\u001b[0m \u001b[0mbow_df\u001b[0m\u001b[0;34m.\u001b[0m\u001b[0mdrop\u001b[0m\u001b[0;34m(\u001b[0m\u001b[0;34m'review_score'\u001b[0m\u001b[0;34m,\u001b[0m \u001b[0maxis\u001b[0m\u001b[0;34m=\u001b[0m\u001b[0;36m1\u001b[0m\u001b[0;34m)\u001b[0m\u001b[0;34m\u001b[0m\u001b[0;34m\u001b[0m\u001b[0m\n\u001b[1;32m      4\u001b[0m \u001b[0;34m\u001b[0m\u001b[0m\n\u001b[1;32m      5\u001b[0m \u001b[0;31m# Build a logistic regression model and calculate the accuracy\u001b[0m\u001b[0;34m\u001b[0m\u001b[0;34m\u001b[0m\u001b[0;34m\u001b[0m\u001b[0m\n",
      "\u001b[0;32m~/anaconda3/lib/python3.7/site-packages/pandas/core/generic.py\u001b[0m in \u001b[0;36m__getattr__\u001b[0;34m(self, name)\u001b[0m\n\u001b[1;32m   5272\u001b[0m             \u001b[0;32mif\u001b[0m \u001b[0mself\u001b[0m\u001b[0;34m.\u001b[0m\u001b[0m_info_axis\u001b[0m\u001b[0;34m.\u001b[0m\u001b[0m_can_hold_identifiers_and_holds_name\u001b[0m\u001b[0;34m(\u001b[0m\u001b[0mname\u001b[0m\u001b[0;34m)\u001b[0m\u001b[0;34m:\u001b[0m\u001b[0;34m\u001b[0m\u001b[0;34m\u001b[0m\u001b[0m\n\u001b[1;32m   5273\u001b[0m                 \u001b[0;32mreturn\u001b[0m \u001b[0mself\u001b[0m\u001b[0;34m[\u001b[0m\u001b[0mname\u001b[0m\u001b[0;34m]\u001b[0m\u001b[0;34m\u001b[0m\u001b[0;34m\u001b[0m\u001b[0m\n\u001b[0;32m-> 5274\u001b[0;31m             \u001b[0;32mreturn\u001b[0m \u001b[0mobject\u001b[0m\u001b[0;34m.\u001b[0m\u001b[0m__getattribute__\u001b[0m\u001b[0;34m(\u001b[0m\u001b[0mself\u001b[0m\u001b[0;34m,\u001b[0m \u001b[0mname\u001b[0m\u001b[0;34m)\u001b[0m\u001b[0;34m\u001b[0m\u001b[0;34m\u001b[0m\u001b[0m\n\u001b[0m\u001b[1;32m   5275\u001b[0m \u001b[0;34m\u001b[0m\u001b[0m\n\u001b[1;32m   5276\u001b[0m     \u001b[0;32mdef\u001b[0m \u001b[0m__setattr__\u001b[0m\u001b[0;34m(\u001b[0m\u001b[0mself\u001b[0m\u001b[0;34m,\u001b[0m \u001b[0mname\u001b[0m\u001b[0;34m:\u001b[0m \u001b[0mstr\u001b[0m\u001b[0;34m,\u001b[0m \u001b[0mvalue\u001b[0m\u001b[0;34m)\u001b[0m \u001b[0;34m->\u001b[0m \u001b[0;32mNone\u001b[0m\u001b[0;34m:\u001b[0m\u001b[0;34m\u001b[0m\u001b[0;34m\u001b[0m\u001b[0m\n",
      "\u001b[0;31mAttributeError\u001b[0m: 'DataFrame' object has no attribute 'review_score'"
     ]
    }
   ],
   "source": [
    "# Define the vector of targets and matrix of features\n",
    "y = bow_df.review_score\n",
    "X = bow_df.drop('review_score', axis=1)\n",
    "\n",
    "# Build a logistic regression model and calculate the accuracy\n",
    "log_reg = LogisticRegression().fit(X, y)\n",
    "print('Accuracy of logistic regression: ', log_reg.score(X, y))"
   ]
  },
  {
   "cell_type": "code",
   "execution_count": null,
   "metadata": {},
   "outputs": [],
   "source": []
  }
 ],
 "metadata": {
  "kernelspec": {
   "display_name": "Python 3",
   "language": "python",
   "name": "python3"
  },
  "language_info": {
   "codemirror_mode": {
    "name": "ipython",
    "version": 3
   },
   "file_extension": ".py",
   "mimetype": "text/x-python",
   "name": "python",
   "nbconvert_exporter": "python",
   "pygments_lexer": "ipython3",
   "version": "3.7.3"
  },
  "toc": {
   "base_numbering": 1,
   "nav_menu": {},
   "number_sections": true,
   "sideBar": true,
   "skip_h1_title": false,
   "title_cell": "Table of Contents",
   "title_sidebar": "Contents",
   "toc_cell": false,
   "toc_position": {},
   "toc_section_display": true,
   "toc_window_display": true
  },
  "varInspector": {
   "cols": {
    "lenName": 16,
    "lenType": 16,
    "lenVar": 40
   },
   "kernels_config": {
    "python": {
     "delete_cmd_postfix": "",
     "delete_cmd_prefix": "del ",
     "library": "var_list.py",
     "varRefreshCmd": "print(var_dic_list())"
    },
    "r": {
     "delete_cmd_postfix": ") ",
     "delete_cmd_prefix": "rm(",
     "library": "var_list.r",
     "varRefreshCmd": "cat(var_dic_list()) "
    }
   },
   "types_to_exclude": [
    "module",
    "function",
    "builtin_function_or_method",
    "instance",
    "_Feature"
   ],
   "window_display": false
  }
 },
 "nbformat": 4,
 "nbformat_minor": 4
}
